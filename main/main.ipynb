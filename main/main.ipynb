{
 "cells": [
  {
   "cell_type": "markdown",
   "metadata": {},
   "source": [
    "# Hello world\n",
    "\n",
    "Seguindo a tradição, é mais que necessário começarmos do princíio, a partir das funções mais básicas da linguagem.\n",
    "O hello world em python é simples:"
   ]
  },
  {
   "cell_type": "code",
   "execution_count": 4,
   "metadata": {},
   "outputs": [
    {
     "name": "stdout",
     "output_type": "stream",
     "text": [
      "Hello, world!\n"
     ]
    }
   ],
   "source": [
    "print(\"Hello, world!\")"
   ]
  },
  {
   "cell_type": "markdown",
   "metadata": {},
   "source": [
    "## `__main__`\n",
    "\n",
    "Já para entendimento avançado, e muito útil mesmo para iniciantes na linguagem, veremos como tratar o código para uma utilização eficiente das ferramentas do python:"
   ]
  },
  {
   "cell_type": "markdown",
   "metadata": {},
   "source": [
    "`'__main__'` é o nome do escopo no qual o código de nível mais alto executa. O `__name__` do módulo é definido como `'__main__'` quando for lido a partir de uma entrada padrão, um script ou uma tela de comando interativo.\n",
    "\n",
    "Um módulo pode verificar se está ou não rodando no escopo principal, verificando seu próprio `__name__`, o que permite expressões para executar condicionalmente o código em um módulo quando esse executa como um script ou com python -m mas não quando esse é importado:\n",
    "\n",
    "Pode existir situações, onde desejamos que o código seja executado sob ocasiões específicas e exclusivas - podendo ser em testes ou em implementos ao algorítimo  "
   ]
  },
  {
   "cell_type": "code",
   "execution_count": 3,
   "metadata": {},
   "outputs": [
    {
     "name": "stdout",
     "output_type": "stream",
     "text": [
      "Hello, world!\n"
     ]
    }
   ],
   "source": [
    "def print_hi(name):\n",
    "    print(f'Hello, {name}!')\n",
    "\n",
    "if __name__ == '__main__':\n",
    "    print_hi('world')"
   ]
  }
 ],
 "metadata": {
  "kernelspec": {
   "display_name": "Python 3",
   "language": "python",
   "name": "python3"
  },
  "language_info": {
   "codemirror_mode": {
    "name": "ipython",
    "version": 3
   },
   "file_extension": ".py",
   "mimetype": "text/x-python",
   "name": "python",
   "nbconvert_exporter": "python",
   "pygments_lexer": "ipython3",
   "version": "3.8.2"
  }
 },
 "nbformat": 4,
 "nbformat_minor": 4
}
